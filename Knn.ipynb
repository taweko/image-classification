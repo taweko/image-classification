{
 "cells": [
  {
   "cell_type": "markdown",
   "id": "8dac62c5",
   "metadata": {},
   "source": [
    "# CSC 421 Assignment 1\n",
    "### Taylor Koch\n",
    "### V00809341\n",
    "## Knn"
   ]
  },
  {
   "cell_type": "markdown",
   "id": "4fb107f1",
   "metadata": {},
   "source": [
    "This notebook imports the CIFAR-10 image dataset and separates the data into two sets containing 50000 train / 10000 test images. The data is not shuffled, since it was not required to be (except in the 5-fold validation section). The Knn machine learning algorithm is then used to train on the 50000 train images, and classify on the 10000 test images (using various values of k). The accuracies of the predictions for each k value are calculated and compared."
   ]
  },
  {
   "cell_type": "markdown",
   "id": "ce7243ad",
   "metadata": {},
   "source": [
    "#### Import statements"
   ]
  },
  {
   "cell_type": "code",
   "execution_count": 1,
   "id": "2c85329c",
   "metadata": {},
   "outputs": [],
   "source": [
    "import matplotlib.pyplot as plt  #Used for plotting different k values, as well as displaying images during testing\n",
    "import numpy as np\n",
    "import torch                     #torch and other libraries are only being used to download/import the cifar data\n",
    "from torch.utils.data import DataLoader\n",
    "import torchvision\n",
    "from torchvision import datasets\n",
    "from torchvision.transforms import ToTensor, Compose\n",
    "from collections import Counter\n",
    "import cv2                       #Used for displaying images during testing"
   ]
  },
  {
   "cell_type": "code",
   "execution_count": 2,
   "id": "59dc70df",
   "metadata": {},
   "outputs": [],
   "source": [
    "import ssl                       #for resolving a known certificate error with downloading CIFAR-10 in torchvision\n",
    "ssl._create_default_https_context = ssl._create_unverified_context"
   ]
  },
  {
   "cell_type": "markdown",
   "id": "61f977e0",
   "metadata": {},
   "source": [
    "The ssl code above is for resolving a known certificate error with CIFAR-10 in torchvision "
   ]
  },
  {
   "cell_type": "markdown",
   "id": "60effbcb",
   "metadata": {},
   "source": [
    "#### RGB values for Grayscale conversion"
   ]
  },
  {
   "cell_type": "code",
   "execution_count": 3,
   "id": "3e3765a4",
   "metadata": {},
   "outputs": [],
   "source": [
    "RED = 0.299\n",
    "GREEN = 0.587\n",
    "BLUE = 0.114"
   ]
  },
  {
   "cell_type": "markdown",
   "id": "fc8edcd9",
   "metadata": {},
   "source": [
    "#### Seed value for shuffling data"
   ]
  },
  {
   "cell_type": "code",
   "execution_count": 4,
   "id": "2754691c",
   "metadata": {},
   "outputs": [],
   "source": [
    "seedval = 2022 #seed used in k-fold validation"
   ]
  },
  {
   "cell_type": "markdown",
   "id": "9432c0d1",
   "metadata": {},
   "source": [
    "#### Importing and partitioning data into test and train datasets"
   ]
  },
  {
   "cell_type": "markdown",
   "id": "2848f40d",
   "metadata": {},
   "source": [
    "The data is imported and stored in two arrays. Each image of the dataset is a 32x32 image, and each pixel has BGR values."
   ]
  },
  {
   "cell_type": "code",
   "execution_count": 5,
   "id": "e49c57b3",
   "metadata": {},
   "outputs": [
    {
     "name": "stdout",
     "output_type": "stream",
     "text": [
      "Files already downloaded and verified\n",
      "Files already downloaded and verified\n"
     ]
    }
   ],
   "source": [
    "train_dataset = datasets.CIFAR10(root='data/', download=True, train=True, transform=ToTensor())\n",
    "test_dataset = datasets.CIFAR10(root='data/', download=True, train=False, transform=ToTensor())"
   ]
  },
  {
   "cell_type": "code",
   "execution_count": 6,
   "id": "56d08a31",
   "metadata": {},
   "outputs": [],
   "source": [
    "X_train = train_dataset.data\n",
    "y_train = np.array(train_dataset.targets)\n",
    "X_test = test_dataset.data\n",
    "y_test = np.array(test_dataset.targets)\n",
    "classes = train_dataset.classes"
   ]
  },
  {
   "cell_type": "code",
   "execution_count": 7,
   "id": "55515233",
   "metadata": {},
   "outputs": [
    {
     "name": "stdout",
     "output_type": "stream",
     "text": [
      "(50000, 32, 32, 3)\n",
      "(10000, 32, 32, 3)\n"
     ]
    }
   ],
   "source": [
    "print(X_train.shape)\n",
    "print(X_test.shape)"
   ]
  },
  {
   "cell_type": "markdown",
   "id": "915359b2",
   "metadata": {},
   "source": [
    "#### Function Definitions"
   ]
  },
  {
   "cell_type": "markdown",
   "id": "e41b7a49",
   "metadata": {},
   "source": [
    "##### Grayscale conversion function to be performed on every pixel when called in preProcess function"
   ]
  },
  {
   "cell_type": "code",
   "execution_count": 8,
   "id": "cbe78368",
   "metadata": {},
   "outputs": [],
   "source": [
    "def toBWArray(itemarray):\n",
    "    global RED,BLUE,GREEN\n",
    "    val = np.uint8(np.dot(itemarray, [BLUE,GREEN,RED]))\n",
    "    return val"
   ]
  },
  {
   "cell_type": "markdown",
   "id": "6a3e0c8c",
   "metadata": {},
   "source": [
    "##### Pre-processing of each image. Flattens the array, converts it to grayscale, and scales each pixel value between 0-1."
   ]
  },
  {
   "cell_type": "code",
   "execution_count": 9,
   "id": "f614bc9e",
   "metadata": {},
   "outputs": [],
   "source": [
    "def preProcess(itemarray):\n",
    "    arrcopy = np.empty((len(itemarray), 32, 32, 3))\n",
    "    np.copyto(arrcopy, itemarray)\n",
    "    arrcopy = arrcopy.reshape((len(itemarray), 1024, 3))\n",
    "    bwArray = np.empty((len(itemarray),1024), np.uint8)\n",
    "    for i in range(len(itemarray)):\n",
    "        bwArray[i] = toBWArray(arrcopy[i])\n",
    "    bwArray = bwArray / 256\n",
    "    return bwArray"
   ]
  },
  {
   "cell_type": "markdown",
   "id": "5f0badbe",
   "metadata": {},
   "source": [
    "##### Distance computation. Calculates the distances between every image in X_test and every image in X_train. In this case, outputs an array of size (10000, 50000)"
   ]
  },
  {
   "cell_type": "code",
   "execution_count": 10,
   "id": "398be636",
   "metadata": {},
   "outputs": [],
   "source": [
    "def computeDist(X_train, X_test):\n",
    "    distance_array = np.empty((len(X_test),len(X_train)), np.float32)\n",
    "    for n in range(len(X_test)):\n",
    "        #print(f'calculating distances for image {n}')\n",
    "        results_array = np.empty((len(X_train)))\n",
    "        for i in range(len(X_train)):\n",
    "            results_array[i] = np.sqrt(np.sum(np.square(X_train[i] - X_test[n])))\n",
    "        distance_array[n] = results_array\n",
    "    return distance_array"
   ]
  },
  {
   "cell_type": "markdown",
   "id": "424a5b43",
   "metadata": {},
   "source": [
    "##### User-facing function used to \"train\" the dataset. It really just calls computeDist."
   ]
  },
  {
   "cell_type": "code",
   "execution_count": 11,
   "id": "a04d98b3",
   "metadata": {},
   "outputs": [],
   "source": [
    "def trainThis(X_train, y_train, X_test):\n",
    "    distance_array = computeDist(X_train, X_test)\n",
    "    return distance_array"
   ]
  },
  {
   "cell_type": "markdown",
   "id": "8e1c4668",
   "metadata": {},
   "source": [
    "##### This function uses global values of k to take the k-closest X_train images from the corresponding distance list for each image of X_test. It then takes the indexes of those closest images, counts the most common occurance, and stores that value in a results_array whose index corresponds to the index of X_test"
   ]
  },
  {
   "cell_type": "code",
   "execution_count": 12,
   "id": "94a0a583",
   "metadata": {},
   "outputs": [],
   "source": [
    "def classifyThis(distance_array, y_train):\n",
    "    global k\n",
    "    results_array = np.empty(len(distance_array), np.uint8)\n",
    "    for n in range(len(results_array)):\n",
    "        classeslist = np.empty(k)\n",
    "        distancesortedindexes = np.argsort(distance_array[n])\n",
    "        for i in range(len(classeslist)):\n",
    "            classeslist[i] = y_train[distancesortedindexes[i]]\n",
    "        c = Counter(classeslist)\n",
    "        results_array[n] = c.most_common(1)[0][0]\n",
    "    return results_array"
   ]
  },
  {
   "cell_type": "markdown",
   "id": "8ce9a724",
   "metadata": {},
   "source": [
    "##### Compares the answers of the test set to the predicted set and returns the accuracy of the predicted set"
   ]
  },
  {
   "cell_type": "code",
   "execution_count": 13,
   "id": "b9f836cd",
   "metadata": {},
   "outputs": [],
   "source": [
    "def evalThis(results_array, y_test):\n",
    "    val = np.sum(results_array == y_test) / len(y_test)\n",
    "    return val"
   ]
  },
  {
   "cell_type": "markdown",
   "id": "c159480f",
   "metadata": {},
   "source": [
    "\n",
    "\n",
    "\n",
    "\n",
    "#### Computation"
   ]
  },
  {
   "cell_type": "markdown",
   "id": "6160a7ff",
   "metadata": {},
   "source": [
    "Both the X_train and X_test arrays are preprocessed."
   ]
  },
  {
   "cell_type": "code",
   "execution_count": 14,
   "id": "25a2e862",
   "metadata": {},
   "outputs": [
    {
     "name": "stdout",
     "output_type": "stream",
     "text": [
      "X_train preprocessed\n",
      "X_test preprocessed\n"
     ]
    }
   ],
   "source": [
    "X_train_proc = preProcess(X_train)\n",
    "print('X_train preprocessed')\n",
    "X_test_proc = preProcess(X_test)\n",
    "print('X_test preprocessed')"
   ]
  },
  {
   "cell_type": "markdown",
   "id": "7a7a9547",
   "metadata": {},
   "source": [
    "The arrays are now reshaped, converted to grayscale, and scaled"
   ]
  },
  {
   "cell_type": "code",
   "execution_count": 15,
   "id": "54a24a05",
   "metadata": {},
   "outputs": [
    {
     "name": "stdout",
     "output_type": "stream",
     "text": [
      "[[0.23828125 0.17578125 0.1796875  ... 0.6796875  0.43359375 0.34765625]\n",
      " [0.69140625 0.52734375 0.39453125 ... 0.52734375 0.53515625 0.53515625]\n",
      " [0.99609375 0.98828125 0.98828125 ... 0.32421875 0.32421875 0.328125  ]\n",
      " ...\n",
      " [0.6953125  0.69921875 0.703125   ... 0.21875    0.18359375 0.1328125 ]\n",
      " [0.84765625 0.83203125 0.828125   ... 0.703125   0.71875    0.71875   ]\n",
      " [0.90234375 0.93359375 0.93359375 ... 0.6875     0.63671875 0.6328125 ]]\n"
     ]
    }
   ],
   "source": [
    "print(X_train_proc)"
   ]
  },
  {
   "cell_type": "code",
   "execution_count": 16,
   "id": "d2bfb131",
   "metadata": {},
   "outputs": [
    {
     "name": "stdout",
     "output_type": "stream",
     "text": [
      "(50000, 1024)\n"
     ]
    }
   ],
   "source": [
    "print(X_train_proc.shape)"
   ]
  },
  {
   "cell_type": "code",
   "execution_count": 17,
   "id": "45e47abb",
   "metadata": {
    "scrolled": true
   },
   "outputs": [
    {
     "name": "stdout",
     "output_type": "stream",
     "text": [
      "(10000, 1024)\n"
     ]
    }
   ],
   "source": [
    "print(X_test_proc.shape)"
   ]
  },
  {
   "cell_type": "markdown",
   "id": "eabdbc27",
   "metadata": {},
   "source": [
    "Distance array is calculated for every image in X_test."
   ]
  },
  {
   "cell_type": "code",
   "execution_count": 18,
   "id": "ded45b29",
   "metadata": {},
   "outputs": [],
   "source": [
    "distance_array = trainThis(X_train_proc, y_train, X_test_proc)"
   ]
  },
  {
   "cell_type": "code",
   "execution_count": 19,
   "id": "fafb9fff",
   "metadata": {
    "scrolled": true
   },
   "outputs": [
    {
     "name": "stdout",
     "output_type": "stream",
     "text": [
      "[[ 6.6806     8.814243  12.311892  ... 11.074615  11.5746565  9.574177 ]\n",
      " [13.959751  11.588673   9.104533  ... 10.0869     8.199101  11.366525 ]\n",
      " [10.890447   9.228642   8.495009  ...  8.555114   7.6023664  9.010739 ]\n",
      " ...\n",
      " [ 9.362952  13.998307  17.503193  ... 14.580839  18.182764  14.695854 ]\n",
      " [ 6.9926567  9.95874   13.610982  ... 12.150267  12.8435955 10.490734 ]\n",
      " [ 8.088964   9.4295435 11.073403  ...  9.540804  11.611938   8.405117 ]]\n"
     ]
    }
   ],
   "source": [
    "print(distance_array)"
   ]
  },
  {
   "cell_type": "code",
   "execution_count": 20,
   "id": "a83d914d",
   "metadata": {},
   "outputs": [
    {
     "name": "stdout",
     "output_type": "stream",
     "text": [
      "0.3205\n",
      "0.318\n",
      "0.317\n",
      "0.3086\n"
     ]
    }
   ],
   "source": [
    "k = 3\n",
    "results_array = classifyThis(distance_array, y_train)\n",
    "k3 = evalThis(results_array, y_test)\n",
    "print(k3)\n",
    "k = 5\n",
    "results_array = classifyThis(distance_array, y_train)\n",
    "k5 = evalThis(results_array, y_test)\n",
    "print(k5)\n",
    "k = 7\n",
    "results_array = classifyThis(distance_array, y_train)\n",
    "k7 = evalThis(results_array, y_test)\n",
    "print(k7)\n",
    "k = 11\n",
    "results_array = classifyThis(distance_array, y_train)\n",
    "k11 = evalThis(results_array, y_test)\n",
    "print(k11)"
   ]
  },
  {
   "cell_type": "markdown",
   "id": "3a4760a2",
   "metadata": {},
   "source": [
    "### Accuracy Chart"
   ]
  },
  {
   "cell_type": "code",
   "execution_count": 21,
   "id": "f289d1ec",
   "metadata": {
    "scrolled": true
   },
   "outputs": [
    {
     "data": {
      "text/plain": [
       "[<matplotlib.lines.Line2D at 0x1df65a129a0>]"
      ]
     },
     "execution_count": 21,
     "metadata": {},
     "output_type": "execute_result"
    },
    {
     "data": {
      "image/png": "[encoded data removed]",
      "text/plain": [
       "<Figure size 432x288 with 1 Axes>"
      ]
     },
     "metadata": {
      "needs_background": "light"
     },
     "output_type": "display_data"
    }
   ],
   "source": [
    "vals = {'3':k3, '5':k5, '7':k7, '11':k11}\n",
    "plt_x = list(vals.keys())\n",
    "plt_y = list(vals.values())\n",
    "plt.plot(plt_x, plt_y)"
   ]
  },
  {
   "cell_type": "markdown",
   "id": "3fcb9cd5",
   "metadata": {},
   "source": [
    "As we can see, k = 3 has the highest accuracy at around 32%"
   ]
  },
  {
   "cell_type": "markdown",
   "id": "408617e4",
   "metadata": {},
   "source": [
    "## 5-fold Validation"
   ]
  },
  {
   "cell_type": "code",
   "execution_count": 22,
   "id": "b440cd67",
   "metadata": {},
   "outputs": [],
   "source": [
    "def fiveFoldVal(X_train, X_test, y_train, y_test):\n",
    "    global k\n",
    "    folds = 5\n",
    "    np.random.seed(seedval)\n",
    "    \n",
    "    X_set_OG = np.concatenate((X_train, X_test))\n",
    "    y_set_OG = np.concatenate((y_train, y_test))\n",
    "    \n",
    "    X_set_OG = preProcess(X_set_OG)\n",
    "    \n",
    "    indices = np.arange(X_set_OG.shape[0])\n",
    "    np.random.shuffle(indices)\n",
    "    X_set = X_set_OG[indices]\n",
    "    y_set = y_set_OG[indices]\n",
    "    \n",
    "    #size reduction for testing\n",
    "    #X_set = X_set[:1000]\n",
    "    #y_set = y_set[:1000]\n",
    "    \n",
    "    #This is assuming (X_set = y_set = 60000) is divisible by (folds = 5)\n",
    "    #I didn't bother to write the case where it isn't\n",
    "    subset_size = int(X_set.shape[0] / folds)\n",
    "    \n",
    "    X_sets = np.empty((folds, subset_size, 1024), np.float32)\n",
    "    for i in range(folds):\n",
    "        X_sets[i] = X_set[(i * subset_size):((i+1) * subset_size)]\n",
    "\n",
    "    y_sets = np.empty((folds, subset_size), np.uint8)\n",
    "    for i in range(folds):\n",
    "        y_sets[i] = y_set[(i * subset_size):((i+1) * subset_size)]\n",
    "        \n",
    "    accuracies = np.empty((folds, 4), np.float32)\n",
    "        \n",
    "    for i in range(folds):\n",
    "        print(f'Fold: {(i+1)}')\n",
    "        X_test = X_sets[i]\n",
    "        y_test = y_sets[i]\n",
    "        \n",
    "        X_train = np.empty(shape=[0, 1024], dtype=np.float32)\n",
    "        y_train = np.empty(shape=[0], dtype=np.uint8)\n",
    "        \n",
    "        for j in range(folds):\n",
    "            if(j!=i):\n",
    "                X_train = np.append(X_train, X_sets[j], axis=0)\n",
    "                y_train = np.append(y_train, y_sets[j])\n",
    "        \n",
    "        distance_array = trainThis(X_train, y_train, X_test)\n",
    "        \n",
    "        k = 3\n",
    "        results_array = classifyThis(distance_array, y_train)\n",
    "        k3 = evalThis(results_array, y_test)\n",
    "        accuracies[i][0] = k3\n",
    "        print(k3)\n",
    "        \n",
    "        k = 5\n",
    "        results_array = classifyThis(distance_array, y_train)\n",
    "        k5 = evalThis(results_array, y_test)\n",
    "        accuracies[i][1] = k5\n",
    "        print(k5)\n",
    "        \n",
    "        k = 7\n",
    "        results_array = classifyThis(distance_array, y_train)\n",
    "        k7 = evalThis(results_array, y_test)\n",
    "        accuracies[i][2] = k7\n",
    "        print(k7)\n",
    "        \n",
    "        k = 11\n",
    "        results_array = classifyThis(distance_array, y_train)\n",
    "        k11 = evalThis(results_array, y_test)\n",
    "        accuracies[i][3] = k11\n",
    "        print(k11)\n",
    "        print()\n",
    "        print()\n",
    "    return accuracies"
   ]
  },
  {
   "cell_type": "code",
   "execution_count": 23,
   "id": "387a6fe3",
   "metadata": {},
   "outputs": [
    {
     "name": "stdout",
     "output_type": "stream",
     "text": [
      "Fold: 1\n",
      "0.3155\n",
      "0.31983333333333336\n",
      "0.31566666666666665\n",
      "0.3145\n",
      "\n",
      "\n",
      "Fold: 2\n",
      "0.31475\n",
      "0.3134166666666667\n",
      "0.3125\n",
      "0.3075833333333333\n",
      "\n",
      "\n",
      "Fold: 3\n",
      "0.31908333333333333\n",
      "0.3205\n",
      "0.31758333333333333\n",
      "0.3144166666666667\n",
      "\n",
      "\n",
      "Fold: 4\n",
      "0.30866666666666664\n",
      "0.31266666666666665\n",
      "0.3119166666666667\n",
      "0.3085833333333333\n",
      "\n",
      "\n",
      "Fold: 5\n",
      "0.31908333333333333\n",
      "0.31575\n",
      "0.31333333333333335\n",
      "0.30641666666666667\n",
      "\n",
      "\n"
     ]
    }
   ],
   "source": [
    "accuracies = fiveFoldVal(X_train, X_test, y_train, y_test)"
   ]
  },
  {
   "cell_type": "code",
   "execution_count": 24,
   "id": "45935138",
   "metadata": {},
   "outputs": [
    {
     "data": {
      "text/plain": [
       "[<matplotlib.lines.Line2D at 0x1df63cb59a0>]"
      ]
     },
     "execution_count": 24,
     "metadata": {},
     "output_type": "execute_result"
    },
    {
     "data": {
      "image/png": "[encoded data removed]",
      "text/plain": [
       "<Figure size 432x288 with 1 Axes>"
      ]
     },
     "metadata": {
      "needs_background": "light"
     },
     "output_type": "display_data"
    }
   ],
   "source": [
    "avg_k3 = np.mean(accuracies[:,0])\n",
    "avg_k5 = np.mean(accuracies[:,1])\n",
    "avg_k7 = np.mean(accuracies[:,2])\n",
    "avg_k11 = np.mean(accuracies[:,3])\n",
    "vals = {'3':avg_k3, '5':avg_k5, '7':avg_k7, '11':avg_k11}\n",
    "plt_x = list(vals.keys())\n",
    "plt_y = list(vals.values())\n",
    "plt.plot(plt_x, plt_y)"
   ]
  },
  {
   "cell_type": "markdown",
   "id": "cfdf873a",
   "metadata": {},
   "source": [
    "After performing 5-fold validation, it is clear that the best value of k for Knn in this model is actually k = 5, with around 31.65% accuracy"
   ]
  },
  {
   "cell_type": "markdown",
   "id": "9e7369e6",
   "metadata": {},
   "source": [
    "## Image Printing"
   ]
  },
  {
   "cell_type": "markdown",
   "id": "62311313",
   "metadata": {},
   "source": [
    "This section was used for testing and can be ignored."
   ]
  },
  {
   "cell_type": "code",
   "execution_count": 25,
   "id": "e53fd8e4",
   "metadata": {
    "scrolled": true
   },
   "outputs": [
    {
     "data": {
      "image/png": "[encoded data removed]",
      "text/plain": [
       "<Figure size 432x288 with 1 Axes>"
      ]
     },
     "metadata": {
      "needs_background": "light"
     },
     "output_type": "display_data"
    }
   ],
   "source": [
    "IMGNUM = 0\n",
    "#img_colored = cv2.cvtColor(X_train[IMGNUM], cv2.COLOR_BGR2RGB)\n",
    "#img_resized = cv2.resize(img_colored, (400,400))\n",
    "#plt.imshow(img_resized)\n",
    "\n",
    "#X_train = X_train.reshape((50000,32,32))\n",
    "#print(X_train)\n",
    "img_resized = cv2.resize(X_train[IMGNUM],(400,400))\n",
    "#img_resized2 = cv2.resize(X_train_proc[IMGNUM],(400,400))\n",
    "\n",
    "plt.imshow(img_resized)\n",
    "plt.show()\n",
    "#plt.imshow(img_resized2, cmap='gray', vmin=0, vmax=255)\n",
    "#plt.show()"
   ]
  }
 ],
 "metadata": {
  "kernelspec": {
   "display_name": "Python 3 (ipykernel)",
   "language": "python",
   "name": "python3"
  },
  "language_info": {
   "codemirror_mode": {
    "name": "ipython",
    "version": 3
   },
   "file_extension": ".py",
   "mimetype": "text/x-python",
   "name": "python",
   "nbconvert_exporter": "python",
   "pygments_lexer": "ipython3",
   "version": "3.9.10"
  }
 },
 "nbformat": 4,
 "nbformat_minor": 5
}
