{
 "cells": [
  {
   "cell_type": "markdown",
   "id": "d8f7104e",
   "metadata": {},
   "source": [
    "## Kmeans"
   ]
  },
  {
   "cell_type": "markdown",
   "id": "0b95c680",
   "metadata": {},
   "source": [
    "My Kmeans implementation was created in its own notebook, and as such uses a seperate memory space / kernel. This notebook imports the CIFAR-10 image dataset and separates the data into two sets containing 50000 train / 10000 test images. The data is not shuffled, since it was not required to be (except in the 5-fold validation section). The Kmeans machine learning algorithm is then used to train on the 50000 train images, and classify on the 10000 test images (using various values of k). The accuracies of the predictions for each k value are calculated and compared."
   ]
  },
  {
   "cell_type": "markdown",
   "id": "bed62c56",
   "metadata": {},
   "source": [
    "#### Import statements"
   ]
  },
  {
   "cell_type": "code",
   "execution_count": 1,
   "id": "3a0d3356",
   "metadata": {},
   "outputs": [],
   "source": [
    "import matplotlib.pyplot as plt\n",
    "import numpy as np\n",
    "import torch\n",
    "from torch.utils.data import DataLoader\n",
    "import torchvision\n",
    "from torchvision import datasets\n",
    "from torchvision.transforms import ToTensor, Compose\n",
    "from collections import Counter\n",
    "import cv2"
   ]
  },
  {
   "cell_type": "code",
   "execution_count": 2,
   "id": "e1d1f6d9",
   "metadata": {},
   "outputs": [],
   "source": [
    "import ssl #This is for resolving a known certificate error with CIFAR-10 in torchvision \n",
    "ssl._create_default_https_context = ssl._create_unverified_context "
   ]
  },
  {
   "cell_type": "markdown",
   "id": "61f977e0",
   "metadata": {},
   "source": [
    "The ssl code above is for resolving a known certificate error with CIFAR-10 in torchvision "
   ]
  },
  {
   "cell_type": "markdown",
   "id": "f913044c",
   "metadata": {},
   "source": [
    "#### RGB values for Grayscale conversion"
   ]
  },
  {
   "cell_type": "code",
   "execution_count": 3,
   "id": "2adeadd6",
   "metadata": {},
   "outputs": [],
   "source": [
    "#Global colour values for greyscale conversion\n",
    "RED = 0.299\n",
    "BLUE = 0.114\n",
    "GREEN = 0.587"
   ]
  },
  {
   "cell_type": "markdown",
   "id": "5ac87100",
   "metadata": {},
   "source": [
    "#### Seed value for shuffling data"
   ]
  },
  {
   "cell_type": "code",
   "execution_count": 4,
   "id": "b922ba61",
   "metadata": {},
   "outputs": [],
   "source": [
    "seedval = 2022 #seed used for picking random centroids and in k-fold validation"
   ]
  },
  {
   "cell_type": "markdown",
   "id": "6fb15f72",
   "metadata": {},
   "source": [
    "#### Importing and partitioning data into test and train datasets"
   ]
  },
  {
   "cell_type": "markdown",
   "id": "196b3fc1",
   "metadata": {},
   "source": [
    "The data is imported and stored in two arrays. Each image of the dataset is a 32x32 image, and each pixel has BGR values."
   ]
  },
  {
   "cell_type": "code",
   "execution_count": 5,
   "id": "58f9cb99",
   "metadata": {},
   "outputs": [
    {
     "name": "stdout",
     "output_type": "stream",
     "text": [
      "Files already downloaded and verified\n",
      "Files already downloaded and verified\n"
     ]
    }
   ],
   "source": [
    "train_dataset = datasets.CIFAR10(root='data/', download=True, train=True, transform=ToTensor())\n",
    "test_dataset = datasets.CIFAR10(root='data/', download=True, train=False, transform=ToTensor())"
   ]
  },
  {
   "cell_type": "code",
   "execution_count": 6,
   "id": "0301e370",
   "metadata": {},
   "outputs": [],
   "source": [
    "X_train = train_dataset.data\n",
    "y_train = np.array(train_dataset.targets)\n",
    "X_test = test_dataset.data\n",
    "y_test = np.array(test_dataset.targets)\n",
    "classes = train_dataset.classes"
   ]
  },
  {
   "cell_type": "markdown",
   "id": "e5c1ea20",
   "metadata": {},
   "source": [
    "#### Function Definitions"
   ]
  },
  {
   "cell_type": "markdown",
   "id": "1a884783",
   "metadata": {},
   "source": [
    "##### Grayscale conversion function to be performed on every pixel when called in preProcess function"
   ]
  },
  {
   "cell_type": "code",
   "execution_count": 7,
   "id": "ce2692b7",
   "metadata": {},
   "outputs": [],
   "source": [
    "def toBWArray(itemarray):\n",
    "    global RED,BLUE,GREEN\n",
    "    val = np.uint8(np.dot(itemarray, [BLUE,GREEN,RED]))\n",
    "    return val"
   ]
  },
  {
   "cell_type": "markdown",
   "id": "d1ee0b8e",
   "metadata": {},
   "source": [
    "##### Pre-processing of each image. Flattens the array, converts it to grayscale, and scales each pixel value between 0-1."
   ]
  },
  {
   "cell_type": "code",
   "execution_count": 8,
   "id": "11cbe06d",
   "metadata": {},
   "outputs": [],
   "source": [
    "def preProcess(itemarray):\n",
    "    arr_copy = np.empty((len(itemarray), 32, 32, 3))\n",
    "    np.copyto(arr_copy, itemarray)\n",
    "    arr_copy = arr_copy.reshape((len(itemarray), 1024, 3))\n",
    "    bwArray = np.empty((len(itemarray),1024), np.uint8)\n",
    "    for i in range(len(itemarray)):\n",
    "        bwArray[i] = toBWArray(arr_copy[i])\n",
    "    bwArray = bwArray / 256\n",
    "    return bwArray"
   ]
  },
  {
   "cell_type": "markdown",
   "id": "1eccc1bc",
   "metadata": {},
   "source": [
    "##### Distance computation. Calculates the distances between every image in X_test and every image in arr_centroids. In this case, outputs an array of size (10000, k)"
   ]
  },
  {
   "cell_type": "code",
   "execution_count": 9,
   "id": "0c08896a",
   "metadata": {},
   "outputs": [],
   "source": [
    "def computeDist(X_test, arr_centroids):\n",
    "    distance_array = np.empty((len(X_test),len(arr_centroids)), np.float32)\n",
    "    for n in range(len(X_test)):\n",
    "        results_array = np.empty((len(arr_centroids)))\n",
    "        for i in range(len(arr_centroids)):\n",
    "            results_array[i] = np.sqrt(np.sum(np.square(arr_centroids[i] - X_test[n])))\n",
    "        distance_array[n] = results_array\n",
    "    return distance_array"
   ]
  },
  {
   "cell_type": "markdown",
   "id": "b5bc12da",
   "metadata": {},
   "source": [
    "##### Computes the cluster value for each image in X_train. Outputs an array of size 50000. The index of the array is the image id in X_train and the value is the id of the centroid it belongs to in arr_centroids."
   ]
  },
  {
   "cell_type": "code",
   "execution_count": 10,
   "id": "945b95a4",
   "metadata": {},
   "outputs": [],
   "source": [
    "def computeClusters(X_train, arr_centroids):\n",
    "    arr_clusters = np.empty((len(X_train)), np.uint8)\n",
    "    for n in range(len(X_train)):\n",
    "        distance_array = np.empty((len(arr_centroids)),np.float32)\n",
    "        for i in range(len(arr_centroids)):\n",
    "            distance_array[i] = np.sqrt(np.sum(np.square(X_train[n] - arr_centroids[i])))\n",
    "        distancesortedindexes = np.argsort(distance_array)\n",
    "        arr_clusters[n] = distancesortedindexes[0]\n",
    "    return arr_clusters"
   ]
  },
  {
   "cell_type": "markdown",
   "id": "248f2209",
   "metadata": {},
   "source": [
    "##### Function that picks the initial centroids for the algorithm. Outputs a semi-random array of images to be used as centroids of size (k). When (k <= the size of the feature set) the chosen images will all be different classes. When (k > the size of the feature set), the shuffled sequence of classes to be chosen will repeat. (Ex. when k = 10, arr_centroids = [8 5 0 9 2 3 7 1 6 4] and when k= 15, arr_centroids = [8 5 0 9 2 3 7 1 6 4 8 5 0 9 2]"
   ]
  },
  {
   "cell_type": "code",
   "execution_count": 11,
   "id": "069c2c7a",
   "metadata": {},
   "outputs": [],
   "source": [
    "def pickCentroids(X_train, y_train):\n",
    "    global k\n",
    "    global seedval\n",
    "    np.random.seed(seedval)\n",
    "    arr_centroids_id = np.empty((k), np.uint32)\n",
    "    arr_centroids = np.empty((k, len(X_train[0])))\n",
    "    indices = np.arange(X_train.shape[0])\n",
    "    np.random.shuffle(indices)\n",
    "    \n",
    "    shuffled_classes = np.arange(len(classes))\n",
    "    np.random.shuffle(shuffled_classes)\n",
    "    picked_classes = np.empty((k), np.uint8)\n",
    "\n",
    "    for i in range(picked_classes.shape[0]):\n",
    "        picked_classes[i] = shuffled_classes[int(i % (len(classes)))]\n",
    "        \n",
    "    #print(picked_classes[::-1])\n",
    "    \n",
    "    loop_c = 0\n",
    "    while(picked_classes.size != 0):\n",
    "        if y_train[indices[loop_c]] in picked_classes:\n",
    "            arr_centroids_id[(len(picked_classes) - 1)] = indices[loop_c]\n",
    "            index_of_found_value = np.where(picked_classes == y_train[indices[loop_c]])[0]\n",
    "            if(index_of_found_value.size != 1):\n",
    "                index_of_found_value = index_of_found_value[0]\n",
    "            picked_classes = np.delete(picked_classes, index_of_found_value)\n",
    "        loop_c += 1\n",
    "    \n",
    "    for i in range(k):\n",
    "        arr_centroids[i] = X_train[arr_centroids_id[i]]\n",
    "        \n",
    "    #print(arr_centroids_id)\n",
    "      \n",
    "    return arr_centroids"
   ]
  },
  {
   "cell_type": "markdown",
   "id": "341d6f54",
   "metadata": {},
   "source": [
    "##### Function that recomputes the centroids based on the current clusters"
   ]
  },
  {
   "cell_type": "code",
   "execution_count": 12,
   "id": "7f51335b",
   "metadata": {},
   "outputs": [],
   "source": [
    "def recomputeCentroids(arr_centroids, arr_clusters, X_train):\n",
    "    avgs = np.zeros((len(arr_centroids),1024), np.float32)\n",
    "    for i in range(len(arr_clusters)):\n",
    "        avgs[arr_clusters[i]] += X_train[i]\n",
    "    arr_count = np.bincount(arr_clusters)\n",
    "    for j in range(len(avgs)):\n",
    "        avgs[j] = avgs[j] /  arr_count[j]\n",
    "    return avgs"
   ]
  },
  {
   "cell_type": "markdown",
   "id": "d7ae6908",
   "metadata": {},
   "source": [
    "##### User-facing function for training the model. Sets up initial centroids, clusters, the base case for recursiveTrain, and calls recursiveTrain. Returns arr_clusters and arr_centroids to be used for classification."
   ]
  },
  {
   "cell_type": "code",
   "execution_count": 13,
   "id": "5c144480",
   "metadata": {},
   "outputs": [],
   "source": [
    "def trainThis(X_train, y_train):\n",
    "    arr_centroids = pickCentroids(X_train, y_train)\n",
    "    arr_clusters = computeClusters(X_train, arr_centroids)\n",
    "    prev_centroids = np.zeros((len(arr_centroids),arr_centroids.shape[1]),np.float32)\n",
    "    tupled = recursiveTrain(arr_clusters, arr_centroids, prev_centroids, X_train)\n",
    "    return tupled[0], tupled[1]"
   ]
  },
  {
   "cell_type": "markdown",
   "id": "80bc2b47",
   "metadata": {},
   "source": [
    "##### Recursively trains the model. Returns multiple variables uses in recursion, but only the final arr_clusters and arr_centroids are relevant to the user."
   ]
  },
  {
   "cell_type": "code",
   "execution_count": 14,
   "id": "a6b96f66",
   "metadata": {},
   "outputs": [],
   "source": [
    "def recursiveTrain(arr_clusters, arr_centroids, prev_centroids, X_train):\n",
    "    diff = 0.0\n",
    "    for i in range(len(arr_centroids)):\n",
    "        diff += (arr_centroids[i] - prev_centroids[i]).sum()\n",
    "    #print(diff)\n",
    "    if(diff == 0.0):\n",
    "        return arr_clusters, arr_centroids, prev_centroids, X_train\n",
    "    else:\n",
    "        np.copyto(prev_centroids, arr_centroids)\n",
    "        arr_clusters = computeClusters(X_train, arr_centroids)\n",
    "        arr_centroids = recomputeCentroids(arr_centroids, arr_clusters, X_train)\n",
    "        return recursiveTrain(arr_clusters, arr_centroids, prev_centroids, X_train)"
   ]
  },
  {
   "cell_type": "markdown",
   "id": "88cc8625",
   "metadata": {},
   "source": [
    "##### Classifies the test data based on arr_clusters, and arr_centroids. Somewhat unintuitively requires y_train to be passed to it because the k features are also labelled in this function. "
   ]
  },
  {
   "cell_type": "code",
   "execution_count": 15,
   "id": "2e4b1f27",
   "metadata": {},
   "outputs": [],
   "source": [
    "def classifyThis(X_train, X_test, y_train, arr_clusters, arr_centroids):\n",
    "    results_array = np.empty((X_test.shape[0]), np.uint8)\n",
    "    \n",
    "    arr_clusters_counts = np.zeros((arr_centroids.shape[0], len(classes)), np.int32)\n",
    "    for i in range(arr_clusters.shape[0]):\n",
    "        arr_clusters_counts[arr_clusters[i]][y_train[i]] += 1\n",
    "        \n",
    "    centroid_labels = np.empty((arr_centroids.shape[0]), np.uint8)\n",
    "    \n",
    "    for i in range(arr_clusters_counts.shape[0]):\n",
    "        sorted_cluster_indexes = np.argsort(arr_clusters_counts[i])\n",
    "        centroid_labels[i] = sorted_cluster_indexes[(sorted_cluster_indexes.shape[0] - 1)]\n",
    "\n",
    "    distance_array = computeDist(X_test, arr_centroids)\n",
    "    for i in range(distance_array.shape[0]):\n",
    "        distancesortedindexes = np.argsort(distance_array[i])\n",
    "        results_array[i] = centroid_labels[distancesortedindexes[0]]\n",
    "    return results_array"
   ]
  },
  {
   "cell_type": "markdown",
   "id": "5c557e78",
   "metadata": {},
   "source": [
    "##### Compares the answers of the test set to the predicted set and returns the accuracy of the predicted set"
   ]
  },
  {
   "cell_type": "code",
   "execution_count": 16,
   "id": "b9f836cd",
   "metadata": {},
   "outputs": [],
   "source": [
    "def evalThis(results_array, y_test):\n",
    "    val = np.sum(results_array == y_test) / len(y_test)\n",
    "    return val"
   ]
  },
  {
   "cell_type": "markdown",
   "id": "9158cdd3",
   "metadata": {},
   "source": [
    "#### Computation"
   ]
  },
  {
   "cell_type": "markdown",
   "id": "c38bf6c4",
   "metadata": {},
   "source": [
    "Both the X_train and X_test arrays are preprocessed."
   ]
  },
  {
   "cell_type": "code",
   "execution_count": 17,
   "id": "638f3a0e",
   "metadata": {},
   "outputs": [
    {
     "name": "stdout",
     "output_type": "stream",
     "text": [
      "X_train preprocessed\n",
      "X_test preprocessed\n"
     ]
    }
   ],
   "source": [
    "X_train_proc = preProcess(X_train)\n",
    "print('X_train preprocessed')\n",
    "X_test_proc = preProcess(X_test)\n",
    "print('X_test preprocessed')"
   ]
  },
  {
   "cell_type": "markdown",
   "id": "30079ea5",
   "metadata": {},
   "source": [
    "The arrays are now reshaped, converted to grayscale, and scaled"
   ]
  },
  {
   "cell_type": "code",
   "execution_count": 18,
   "id": "978c78fa",
   "metadata": {},
   "outputs": [],
   "source": [
    "k = 3"
   ]
  },
  {
   "cell_type": "markdown",
   "id": "1c96e0a5",
   "metadata": {},
   "source": [
    "Global k value is now set"
   ]
  },
  {
   "cell_type": "markdown",
   "id": "84c325e5",
   "metadata": {},
   "source": [
    "The arr_clusters and arr_centroids are created by training:"
   ]
  },
  {
   "cell_type": "code",
   "execution_count": 19,
   "id": "85c477ec",
   "metadata": {},
   "outputs": [],
   "source": [
    "arr_clusters, arr_centroids = trainThis(X_train_proc, y_train)"
   ]
  },
  {
   "cell_type": "markdown",
   "id": "1bc1ea95",
   "metadata": {},
   "source": [
    "Classify the X_test data and return the predicted results:"
   ]
  },
  {
   "cell_type": "code",
   "execution_count": 20,
   "id": "d21371af",
   "metadata": {},
   "outputs": [],
   "source": [
    "results = classifyThis(X_train_proc, X_test_proc, y_train, arr_clusters, arr_centroids)"
   ]
  },
  {
   "cell_type": "markdown",
   "id": "51d9bc4f",
   "metadata": {},
   "source": [
    "Accuracy is returned and saved in k3:"
   ]
  },
  {
   "cell_type": "code",
   "execution_count": 21,
   "id": "b1040977",
   "metadata": {},
   "outputs": [
    {
     "name": "stdout",
     "output_type": "stream",
     "text": [
      "0.1738\n"
     ]
    }
   ],
   "source": [
    "k3 = evalThis(results, y_test)\n",
    "print(k3)"
   ]
  },
  {
   "cell_type": "markdown",
   "id": "e3267f01",
   "metadata": {},
   "source": [
    "The training->classifying->evaluating process is repeated for k = 5,7, and 11"
   ]
  },
  {
   "cell_type": "code",
   "execution_count": 22,
   "id": "d228d7f1",
   "metadata": {},
   "outputs": [
    {
     "name": "stdout",
     "output_type": "stream",
     "text": [
      "0.195\n",
      "0.206\n",
      "0.2281\n"
     ]
    }
   ],
   "source": [
    "k = 5\n",
    "arr_clusters, arr_centroids = trainThis(X_train_proc, y_train)\n",
    "results_array = classifyThis(X_train_proc, X_test_proc, y_train, arr_clusters, arr_centroids)\n",
    "k5 = evalThis(results_array, y_test)\n",
    "print(k5)\n",
    "\n",
    "k = 7\n",
    "arr_clusters, arr_centroids = trainThis(X_train_proc, y_train)\n",
    "results_array = classifyThis(X_train_proc, X_test_proc, y_train, arr_clusters, arr_centroids)\n",
    "k7 = evalThis(results_array, y_test)\n",
    "print(k7)\n",
    "        \n",
    "k = 11\n",
    "arr_clusters, arr_centroids = trainThis(X_train_proc, y_train)\n",
    "results_array = classifyThis(X_train_proc, X_test_proc, y_train, arr_clusters, arr_centroids)\n",
    "k11 = evalThis(results_array, y_test)\n",
    "print(k11)"
   ]
  },
  {
   "cell_type": "markdown",
   "id": "7d19c6d5",
   "metadata": {},
   "source": [
    "### Accuracy Chart"
   ]
  },
  {
   "cell_type": "code",
   "execution_count": 23,
   "id": "a370d37c",
   "metadata": {},
   "outputs": [
    {
     "data": {
      "text/plain": [
       "[<matplotlib.lines.Line2D at 0x181c696df70>]"
      ]
     },
     "execution_count": 23,
     "metadata": {},
     "output_type": "execute_result"
    },
    {
     "data": {
      "image/png": "[encoded data removed]",
      "text/plain": [
       "<Figure size 432x288 with 1 Axes>"
      ]
     },
     "metadata": {
      "needs_background": "light"
     },
     "output_type": "display_data"
    }
   ],
   "source": [
    "vals = {'3':k3, '5':k5, '7':k7, '11':k11}\n",
    "plt_x = list(vals.keys())\n",
    "plt_y = list(vals.values())\n",
    "plt.plot(plt_x, plt_y)"
   ]
  },
  {
   "cell_type": "markdown",
   "id": "10525917",
   "metadata": {},
   "source": [
    "As we can see, k = 11 has the highest accuracy at around 23%"
   ]
  },
  {
   "cell_type": "markdown",
   "id": "a8972b22",
   "metadata": {},
   "source": [
    "## 5-fold Validation"
   ]
  },
  {
   "cell_type": "code",
   "execution_count": 24,
   "id": "40f32e86",
   "metadata": {},
   "outputs": [],
   "source": [
    "def fiveFoldVal(X_train, X_test, y_train, y_test):\n",
    "    global k\n",
    "    global seedval\n",
    "    folds = 5\n",
    "    np.random.seed(seedval)\n",
    "    \n",
    "    X_set_OG = np.concatenate((X_train, X_test))\n",
    "    y_set_OG = np.concatenate((y_train, y_test))\n",
    "    \n",
    "    X_set_OG = preProcess(X_set_OG)\n",
    "    \n",
    "    indices = np.arange(X_set_OG.shape[0])\n",
    "    np.random.shuffle(indices)\n",
    "    X_set = X_set_OG[indices]\n",
    "    y_set = y_set_OG[indices]\n",
    "    \n",
    "    #size reduction for testing\n",
    "    X_set = X_set[:1000]\n",
    "    y_set = y_set[:1000]\n",
    "    \n",
    "    #This is assuming (X_set = y_set = 60000) is divisible by (folds = 5)\n",
    "    #I didn't bother to write the case where it isn't\n",
    "    subset_size = int(X_set.shape[0] / folds)\n",
    "    \n",
    "    X_sets = np.empty((folds, subset_size, 1024), np.float32)\n",
    "    for i in range(folds):\n",
    "        X_sets[i] = X_set[(i * subset_size):((i+1) * subset_size)]\n",
    "\n",
    "    y_sets = np.empty((folds, subset_size), np.uint8)\n",
    "    for i in range(folds):\n",
    "        y_sets[i] = y_set[(i * subset_size):((i+1) * subset_size)]\n",
    "        \n",
    "    accuracies = np.empty((folds, 4), np.float32)\n",
    "        \n",
    "    for i in range(folds):\n",
    "        print(f'Fold: {(i+1)}')\n",
    "        X_test = X_sets[i]\n",
    "        y_test = y_sets[i]\n",
    "        \n",
    "        X_train = np.empty(shape=[0, 1024], dtype=np.float32)\n",
    "        y_train = np.empty(shape=[0], dtype=np.uint8)\n",
    "        \n",
    "        for j in range(folds):\n",
    "            if(j!=i):\n",
    "                X_train = np.append(X_train, X_sets[j], axis=0)\n",
    "                y_train = np.append(y_train, y_sets[j])\n",
    "        \n",
    "        k = 3\n",
    "        arr_clusters, arr_centroids = trainThis(X_train, y_train)\n",
    "        results_array = classifyThis(X_train, X_test, y_train, arr_clusters, arr_centroids)\n",
    "        k3 = evalThis(results_array, y_test)\n",
    "        accuracies[i][0] = k3\n",
    "        print(k3)\n",
    "        \n",
    "        k = 5\n",
    "        arr_clusters, arr_centroids = trainThis(X_train, y_train)\n",
    "        results_array = classifyThis(X_train, X_test, y_train, arr_clusters, arr_centroids)\n",
    "        k5 = evalThis(results_array, y_test)\n",
    "        accuracies[i][1] = k5\n",
    "        print(k5)\n",
    "        \n",
    "        k = 7\n",
    "        arr_clusters, arr_centroids = trainThis(X_train, y_train)\n",
    "        results_array = classifyThis(X_train, X_test, y_train, arr_clusters, arr_centroids)\n",
    "        k7 = evalThis(results_array, y_test)\n",
    "        accuracies[i][2] = k7\n",
    "        print(k7)\n",
    "        \n",
    "        k = 11\n",
    "        arr_clusters, arr_centroids = trainThis(X_train, y_train)\n",
    "        results_array = classifyThis(X_train, X_test, y_train, arr_clusters, arr_centroids)\n",
    "        k11 = evalThis(results_array, y_test)\n",
    "        accuracies[i][3] = k11\n",
    "        print(k11)\n",
    "        print()\n",
    "        print()\n",
    "    return accuracies"
   ]
  },
  {
   "cell_type": "code",
   "execution_count": 25,
   "id": "9004a229",
   "metadata": {},
   "outputs": [
    {
     "name": "stdout",
     "output_type": "stream",
     "text": [
      "Fold: 1\n",
      "0.155\n",
      "0.2\n",
      "0.205\n",
      "0.205\n",
      "\n",
      "\n",
      "Fold: 2\n",
      "0.15\n",
      "0.22\n",
      "0.24\n",
      "0.195\n",
      "\n",
      "\n",
      "Fold: 3\n",
      "0.15\n",
      "0.17\n",
      "0.16\n",
      "0.16\n",
      "\n",
      "\n",
      "Fold: 4\n",
      "0.16\n",
      "0.13\n",
      "0.17\n",
      "0.195\n",
      "\n",
      "\n",
      "Fold: 5\n",
      "0.13\n",
      "0.175\n",
      "0.22\n",
      "0.225\n",
      "\n",
      "\n"
     ]
    }
   ],
   "source": [
    "accuracies = fiveFoldVal(X_train, X_test, y_train, y_test)"
   ]
  },
  {
   "cell_type": "code",
   "execution_count": 26,
   "id": "e06d8192",
   "metadata": {},
   "outputs": [
    {
     "data": {
      "text/plain": [
       "[<matplotlib.lines.Line2D at 0x181c5bdde50>]"
      ]
     },
     "execution_count": 26,
     "metadata": {},
     "output_type": "execute_result"
    },
    {
     "data": {
      "image/png": "[encoded data removed]",
      "text/plain": [
       "<Figure size 432x288 with 1 Axes>"
      ]
     },
     "metadata": {
      "needs_background": "light"
     },
     "output_type": "display_data"
    }
   ],
   "source": [
    "avg_k3 = np.mean(accuracies[:,0])\n",
    "avg_k5 = np.mean(accuracies[:,1])\n",
    "avg_k7 = np.mean(accuracies[:,2])\n",
    "avg_k11 = np.mean(accuracies[:,3])\n",
    "vals = {'3':avg_k3, '5':avg_k5, '7':avg_k7, '11':avg_k11}\n",
    "plt_x = list(vals.keys())\n",
    "plt_y = list(vals.values())\n",
    "plt.plot(plt_x, plt_y)"
   ]
  },
  {
   "cell_type": "markdown",
   "id": "e1b21c76",
   "metadata": {},
   "source": [
    "After performing 5-fold validation, it seems that the best value of k for Kmeans in this model is between k = 7, and k=11 with around 20% accuracy. This makes sense since k is roughly equal to the size of the classes set."
   ]
  }
 ],
 "metadata": {
  "kernelspec": {
   "display_name": "Python 3 (ipykernel)",
   "language": "python",
   "name": "python3"
  },
  "language_info": {
   "codemirror_mode": {
    "name": "ipython",
    "version": 3
   },
   "file_extension": ".py",
   "mimetype": "text/x-python",
   "name": "python",
   "nbconvert_exporter": "python",
   "pygments_lexer": "ipython3",
   "version": "3.9.10"
  }
 },
 "nbformat": 4,
 "nbformat_minor": 5
}
